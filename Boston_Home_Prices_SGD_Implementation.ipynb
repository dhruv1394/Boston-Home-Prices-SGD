{
 "cells": [
  {
   "cell_type": "markdown",
   "metadata": {},
   "source": [
    "# Implementing SGD on Boston Home Prices Dataset :- Custom Implementation vs SKLearn Implementation :-"
   ]
  },
  {
   "cell_type": "markdown",
   "metadata": {},
   "source": [
    "<b> <font color=\"black\"> Importing the Required Modules & Packages:- </font> </b>"
   ]
  },
  {
   "cell_type": "code",
   "execution_count": 1,
   "metadata": {
    "colab": {},
    "colab_type": "code",
    "id": "REYPoTJ1Af7u"
   },
   "outputs": [],
   "source": [
    "import warnings\n",
    "warnings.filterwarnings(\"ignore\")\n",
    "from sklearn.datasets import load_boston\n",
    "from random import seed\n",
    "from random import randrange\n",
    "from csv import reader\n",
    "from math import sqrt\n",
    "from sklearn import preprocessing\n",
    "import pandas as pd\n",
    "import numpy as np\n",
    "import matplotlib.pyplot as plt\n",
    "from prettytable import PrettyTable\n",
    "from sklearn.linear_model import SGDRegressor\n",
    "from sklearn import preprocessing\n",
    "from sklearn.metrics import mean_squared_error"
   ]
  },
  {
   "cell_type": "markdown",
   "metadata": {},
   "source": [
    "<b> <font color=\"black\"> Loading the Dataset :- </font> </b>"
   ]
  },
  {
   "cell_type": "code",
   "execution_count": 2,
   "metadata": {
    "colab": {},
    "colab_type": "code",
    "id": "NTQ2iH-kAwbo"
   },
   "outputs": [],
   "source": [
    "boston = load_boston()\n",
    "X = boston.data\n",
    "Y = boston.target"
   ]
  },
  {
   "cell_type": "code",
   "execution_count": 3,
   "metadata": {},
   "outputs": [
    {
     "name": "stdout",
     "output_type": "stream",
     "text": [
      "(506, 13)\n",
      "['CRIM' 'ZN' 'INDUS' 'CHAS' 'NOX' 'RM' 'AGE' 'DIS' 'RAD' 'TAX' 'PTRATIO'\n",
      " 'B' 'LSTAT']\n",
      "(506,)\n"
     ]
    }
   ],
   "source": [
    "print(X.shape)\n",
    "print(boston.feature_names)\n",
    "print(Y.shape)"
   ]
  },
  {
   "cell_type": "markdown",
   "metadata": {},
   "source": [
    "X here basically consists of all the features that we have whereas Y is the home prices that we are to predict. As seen over here the shape of dataset X :(506,13) ie. it has 506 rows and a total of 13 features that are named as shown above. However we'll understand what each of these features mean when we will soon have a look at the same. Y on the other hand is a single column with 506 rows. "
   ]
  },
  {
   "cell_type": "code",
   "execution_count": 4,
   "metadata": {},
   "outputs": [
    {
     "name": "stdout",
     "output_type": "stream",
     "text": [
      ".. _boston_dataset:\n",
      "\n",
      "Boston house prices dataset\n",
      "---------------------------\n",
      "\n",
      "**Data Set Characteristics:**  \n",
      "\n",
      "    :Number of Instances: 506 \n",
      "\n",
      "    :Number of Attributes: 13 numeric/categorical predictive. Median Value (attribute 14) is usually the target.\n",
      "\n",
      "    :Attribute Information (in order):\n",
      "        - CRIM     per capita crime rate by town\n",
      "        - ZN       proportion of residential land zoned for lots over 25,000 sq.ft.\n",
      "        - INDUS    proportion of non-retail business acres per town\n",
      "        - CHAS     Charles River dummy variable (= 1 if tract bounds river; 0 otherwise)\n",
      "        - NOX      nitric oxides concentration (parts per 10 million)\n",
      "        - RM       average number of rooms per dwelling\n",
      "        - AGE      proportion of owner-occupied units built prior to 1940\n",
      "        - DIS      weighted distances to five Boston employment centres\n",
      "        - RAD      index of accessibility to radial highways\n",
      "        - TAX      full-value property-tax rate per $10,000\n",
      "        - PTRATIO  pupil-teacher ratio by town\n",
      "        - B        1000(Bk - 0.63)^2 where Bk is the proportion of blacks by town\n",
      "        - LSTAT    % lower status of the population\n",
      "        - MEDV     Median value of owner-occupied homes in $1000's\n",
      "\n",
      "    :Missing Attribute Values: None\n",
      "\n",
      "    :Creator: Harrison, D. and Rubinfeld, D.L.\n",
      "\n",
      "This is a copy of UCI ML housing dataset.\n",
      "https://archive.ics.uci.edu/ml/machine-learning-databases/housing/\n",
      "\n",
      "\n",
      "This dataset was taken from the StatLib library which is maintained at Carnegie Mellon University.\n",
      "\n",
      "The Boston house-price data of Harrison, D. and Rubinfeld, D.L. 'Hedonic\n",
      "prices and the demand for clean air', J. Environ. Economics & Management,\n",
      "vol.5, 81-102, 1978.   Used in Belsley, Kuh & Welsch, 'Regression diagnostics\n",
      "...', Wiley, 1980.   N.B. Various transformations are used in the table on\n",
      "pages 244-261 of the latter.\n",
      "\n",
      "The Boston house-price data has been used in many machine learning papers that address regression\n",
      "problems.   \n",
      "     \n",
      ".. topic:: References\n",
      "\n",
      "   - Belsley, Kuh & Welsch, 'Regression diagnostics: Identifying Influential Data and Sources of Collinearity', Wiley, 1980. 244-261.\n",
      "   - Quinlan,R. (1993). Combining Instance-Based and Model-Based Learning. In Proceedings on the Tenth International Conference of Machine Learning, 236-243, University of Massachusetts, Amherst. Morgan Kaufmann.\n",
      "\n"
     ]
    }
   ],
   "source": [
    "print(boston.DESCR)"
   ]
  },
  {
   "cell_type": "code",
   "execution_count": 5,
   "metadata": {},
   "outputs": [
    {
     "data": {
      "text/html": [
       "<div>\n",
       "<style scoped>\n",
       "    .dataframe tbody tr th:only-of-type {\n",
       "        vertical-align: middle;\n",
       "    }\n",
       "\n",
       "    .dataframe tbody tr th {\n",
       "        vertical-align: top;\n",
       "    }\n",
       "\n",
       "    .dataframe thead th {\n",
       "        text-align: right;\n",
       "    }\n",
       "</style>\n",
       "<table border=\"1\" class=\"dataframe\">\n",
       "  <thead>\n",
       "    <tr style=\"text-align: right;\">\n",
       "      <th></th>\n",
       "      <th>0</th>\n",
       "      <th>1</th>\n",
       "      <th>2</th>\n",
       "      <th>3</th>\n",
       "      <th>4</th>\n",
       "      <th>5</th>\n",
       "      <th>6</th>\n",
       "      <th>7</th>\n",
       "      <th>8</th>\n",
       "      <th>9</th>\n",
       "      <th>10</th>\n",
       "      <th>11</th>\n",
       "      <th>12</th>\n",
       "    </tr>\n",
       "  </thead>\n",
       "  <tbody>\n",
       "    <tr>\n",
       "      <th>0</th>\n",
       "      <td>0.00632</td>\n",
       "      <td>18.0</td>\n",
       "      <td>2.31</td>\n",
       "      <td>0.0</td>\n",
       "      <td>0.538</td>\n",
       "      <td>6.575</td>\n",
       "      <td>65.2</td>\n",
       "      <td>4.0900</td>\n",
       "      <td>1.0</td>\n",
       "      <td>296.0</td>\n",
       "      <td>15.3</td>\n",
       "      <td>396.90</td>\n",
       "      <td>4.98</td>\n",
       "    </tr>\n",
       "    <tr>\n",
       "      <th>1</th>\n",
       "      <td>0.02731</td>\n",
       "      <td>0.0</td>\n",
       "      <td>7.07</td>\n",
       "      <td>0.0</td>\n",
       "      <td>0.469</td>\n",
       "      <td>6.421</td>\n",
       "      <td>78.9</td>\n",
       "      <td>4.9671</td>\n",
       "      <td>2.0</td>\n",
       "      <td>242.0</td>\n",
       "      <td>17.8</td>\n",
       "      <td>396.90</td>\n",
       "      <td>9.14</td>\n",
       "    </tr>\n",
       "    <tr>\n",
       "      <th>2</th>\n",
       "      <td>0.02729</td>\n",
       "      <td>0.0</td>\n",
       "      <td>7.07</td>\n",
       "      <td>0.0</td>\n",
       "      <td>0.469</td>\n",
       "      <td>7.185</td>\n",
       "      <td>61.1</td>\n",
       "      <td>4.9671</td>\n",
       "      <td>2.0</td>\n",
       "      <td>242.0</td>\n",
       "      <td>17.8</td>\n",
       "      <td>392.83</td>\n",
       "      <td>4.03</td>\n",
       "    </tr>\n",
       "    <tr>\n",
       "      <th>3</th>\n",
       "      <td>0.03237</td>\n",
       "      <td>0.0</td>\n",
       "      <td>2.18</td>\n",
       "      <td>0.0</td>\n",
       "      <td>0.458</td>\n",
       "      <td>6.998</td>\n",
       "      <td>45.8</td>\n",
       "      <td>6.0622</td>\n",
       "      <td>3.0</td>\n",
       "      <td>222.0</td>\n",
       "      <td>18.7</td>\n",
       "      <td>394.63</td>\n",
       "      <td>2.94</td>\n",
       "    </tr>\n",
       "    <tr>\n",
       "      <th>4</th>\n",
       "      <td>0.06905</td>\n",
       "      <td>0.0</td>\n",
       "      <td>2.18</td>\n",
       "      <td>0.0</td>\n",
       "      <td>0.458</td>\n",
       "      <td>7.147</td>\n",
       "      <td>54.2</td>\n",
       "      <td>6.0622</td>\n",
       "      <td>3.0</td>\n",
       "      <td>222.0</td>\n",
       "      <td>18.7</td>\n",
       "      <td>396.90</td>\n",
       "      <td>5.33</td>\n",
       "    </tr>\n",
       "  </tbody>\n",
       "</table>\n",
       "</div>"
      ],
      "text/plain": [
       "        0     1     2    3      4      5     6       7    8      9     10  \\\n",
       "0  0.00632  18.0  2.31  0.0  0.538  6.575  65.2  4.0900  1.0  296.0  15.3   \n",
       "1  0.02731   0.0  7.07  0.0  0.469  6.421  78.9  4.9671  2.0  242.0  17.8   \n",
       "2  0.02729   0.0  7.07  0.0  0.469  7.185  61.1  4.9671  2.0  242.0  17.8   \n",
       "3  0.03237   0.0  2.18  0.0  0.458  6.998  45.8  6.0622  3.0  222.0  18.7   \n",
       "4  0.06905   0.0  2.18  0.0  0.458  7.147  54.2  6.0622  3.0  222.0  18.7   \n",
       "\n",
       "       11    12  \n",
       "0  396.90  4.98  \n",
       "1  396.90  9.14  \n",
       "2  392.83  4.03  \n",
       "3  394.63  2.94  \n",
       "4  396.90  5.33  "
      ]
     },
     "execution_count": 5,
     "metadata": {},
     "output_type": "execute_result"
    }
   ],
   "source": [
    "bos_df1 = pd.DataFrame(X)\n",
    "bos_df1.head()"
   ]
  },
  {
   "cell_type": "markdown",
   "metadata": {},
   "source": [
    "Now I am basically renaming the column indices that were obtained by default with their respective feature names. This is carried out as follows:"
   ]
  },
  {
   "cell_type": "code",
   "execution_count": 6,
   "metadata": {},
   "outputs": [
    {
     "name": "stdout",
     "output_type": "stream",
     "text": [
      "      CRIM    ZN  INDUS  CHAS    NOX     RM   AGE     DIS  RAD    TAX  \\\n",
      "0  0.00632  18.0   2.31   0.0  0.538  6.575  65.2  4.0900  1.0  296.0   \n",
      "1  0.02731   0.0   7.07   0.0  0.469  6.421  78.9  4.9671  2.0  242.0   \n",
      "2  0.02729   0.0   7.07   0.0  0.469  7.185  61.1  4.9671  2.0  242.0   \n",
      "3  0.03237   0.0   2.18   0.0  0.458  6.998  45.8  6.0622  3.0  222.0   \n",
      "4  0.06905   0.0   2.18   0.0  0.458  7.147  54.2  6.0622  3.0  222.0   \n",
      "\n",
      "   PTRATIO       B  LSTAT  \n",
      "0     15.3  396.90   4.98  \n",
      "1     17.8  396.90   9.14  \n",
      "2     17.8  392.83   4.03  \n",
      "3     18.7  394.63   2.94  \n",
      "4     18.7  396.90   5.33  \n"
     ]
    }
   ],
   "source": [
    "bos_df1.columns = boston.feature_names\n",
    "print(bos_df1.head())"
   ]
  },
  {
   "cell_type": "code",
   "execution_count": 7,
   "metadata": {},
   "outputs": [
    {
     "name": "stdout",
     "output_type": "stream",
     "text": [
      "   Price\n",
      "0   24.0\n",
      "1   21.6\n",
      "2   34.7\n",
      "3   33.4\n",
      "4   36.2\n"
     ]
    }
   ],
   "source": [
    "bos_df2 = pd.DataFrame(Y)\n",
    "bos_df2.columns = ['Price']\n",
    "print(bos_df2.head())"
   ]
  },
  {
   "cell_type": "code",
   "execution_count": 8,
   "metadata": {},
   "outputs": [],
   "source": [
    "from sklearn.model_selection import train_test_split\n",
    "X_Train,X_Test,Y_Train,Y_Test = train_test_split(X,Y,test_size=0.30,random_state=5)"
   ]
  },
  {
   "cell_type": "code",
   "execution_count": 9,
   "metadata": {},
   "outputs": [
    {
     "name": "stdout",
     "output_type": "stream",
     "text": [
      "The Training Dataset shapes are as follows:\n",
      "(354, 13)\n",
      "(354,)\n",
      "****************************************************************************************************\n",
      "The Test Dataset shapes are as follows:\n",
      "(152, 13)\n",
      "(152,)\n"
     ]
    }
   ],
   "source": [
    "print(\"The Training Dataset shapes are as follows:\")\n",
    "print(X_Train.shape)\n",
    "print(Y_Train.shape)\n",
    "\n",
    "print(\"*\"*100)\n",
    "\n",
    "print(\"The Test Dataset shapes are as follows:\")\n",
    "print(X_Test.shape)\n",
    "print(Y_Test.shape)"
   ]
  },
  {
   "cell_type": "code",
   "execution_count": 10,
   "metadata": {
    "colab": {},
    "colab_type": "code",
    "id": "FgUW39s6Be0U"
   },
   "outputs": [],
   "source": [
    "# scaler = preprocessing.StandardScaler().fit(X)\n",
    "from sklearn.preprocessing import StandardScaler\n",
    "\n",
    "sc = StandardScaler()\n",
    "X_Train_sc = sc.fit_transform(X_Train)\n",
    "X_Test_sc = sc.transform(X_Test)"
   ]
  },
  {
   "cell_type": "markdown",
   "metadata": {},
   "source": [
    "# SGD Custom Implementation :-"
   ]
  },
  {
   "cell_type": "markdown",
   "metadata": {},
   "source": [
    "First what we do is as follows : We create a variable called \"weight\" which is a random vector that has been initialized: It has basically been initialized as a vector with size = 13 (no. of features that we are dealing with) and with the help of a Gaussian distributed Random Variable."
   ]
  },
  {
   "cell_type": "markdown",
   "metadata": {},
   "source": [
    "Now we basically implement the Custom SGD as follows :-\n",
    " * In order to carry out SGD, we compute the following :- \n",
    "     w_i+1 = w_i - r * <summation from i=0 to n> (-2*xi)(yi - w_i.T.xi)\n",
    " * In the formula written above, the w's are the consecutive weights obtained. The loop is to be terminated when the \n",
    "   consecutive values of the weights are not changing much and we have achieved the w_star.\n",
    " * r is basically the learning rate in this scenario. r when kept constant could result in the oscillation problem      and hence in our scenario we will decrease the value of r as the iteration # increases.\n",
    " * \"summation from i=0 to n\" is basically all the points in the Training data. If this entire thing is computed, it   \n",
    "   means that it is Simple Gradient Descent. However, if we only take a subset of k points over here then it is\n",
    "   called Stochastic (or Probabilistic) Gradient Descent which is much much faster when the data size increases.\n",
    " * xi as well as yi over here correspond to the Training Data :- features as well as the target which is to be \n",
    "   predicted."
   ]
  },
  {
   "cell_type": "code",
   "execution_count": 11,
   "metadata": {},
   "outputs": [
    {
     "data": {
      "text/plain": [
       "(152,)"
      ]
     },
     "execution_count": 11,
     "metadata": {},
     "output_type": "execute_result"
    }
   ],
   "source": [
    "Y_Test.shape"
   ]
  },
  {
   "cell_type": "code",
   "execution_count": 12,
   "metadata": {},
   "outputs": [],
   "source": [
    "learning_rate =0.09\n",
    "max_iter = 160\n",
    "\n",
    "w_cur = np.zeros(shape=(1,X_Train.shape[1]))\n",
    "cur_iteration = 1\n",
    "b_cur = 0\n",
    "\n",
    "while(cur_iteration<=max_iter):\n",
    "    w_prev = w_cur\n",
    "    b_prev = b_cur\n",
    "    weight_summation = np.zeros(shape=(1,X_Train.shape[1]))\n",
    "    b_summation = 0\n",
    "\n",
    "    weight_summation += np.mean((X_Train_sc)*(Y_Train.reshape(-1,1) - np.dot(X_Train_sc,w_prev.T)-b_prev),axis=0)\n",
    "    b_summation += np.mean((Y_Train.reshape(-1,1) - np.dot(X_Train_sc,w_prev.T)-b_prev),axis=0)\n",
    "    w_cur = w_prev - (-2)*(learning_rate)*(weight_summation)\n",
    "    b_cur = b_prev - (-2)*(learning_rate)*(b_summation)\n",
    "        \n",
    "    if (w_cur == w_prev).all():\n",
    "        break\n",
    "    cur_iteration = cur_iteration +1"
   ]
  },
  {
   "cell_type": "markdown",
   "metadata": {},
   "source": [
    "The code above is explained as follows:\n",
    "\n",
    "* learning_rate is not considered to be adaptive and rather a very small constant value (equal to 0.09), which is   good enough to achieve the best value for 'w' with a reasonable number of iterations. max_iterations is taken to be a value equal to 160. This was obtained after checking the Mean Square Errors for different values of learning rate and number of iterations.\n",
    "* Now w_cur is initialized with a shape of (1,13) {same is the shape for \"w_prev\" and \"summation\"}.\n",
    "* np.mean() is basically used as a more optimized alternative to the for loop. Our job is to find the summation but\n",
    "  np.mean() divides by the value of max_iter (n). However since we have a while loop and we are doing this max_iter   (n) times, we obtain a summation at the end, as needed.\n",
    "* Y_Train.reshape(-1,1) is basically used so that numpy figures out the compatible shape.\n",
    "* We are subtracting b_prev because -(W^T.X+B) is a single term, which becomes (-W^T.X-B).\n",
    "* The loop is broken if the every element of the vectors w_cur & w_prev are exactly equal to each other in this case. {It could also have been broken if the difference between the 2 vectors was very very small }     "
   ]
  },
  {
   "cell_type": "code",
   "execution_count": 13,
   "metadata": {},
   "outputs": [],
   "source": [
    "pred_custom_SGD = np.dot(X_Test_sc,w_cur.T)+b_cur\n",
    "pred_custom_SGD_1D = pred_custom_SGD.ravel()"
   ]
  },
  {
   "cell_type": "markdown",
   "metadata": {},
   "source": [
    "X_Test has a shape of (152,13) whereas w_cur has a shape of (1,13) and we know that the predicted value is equal to W^T.X. and pred_custom_SGD has a shape of (152,1). After ravelling the same we have a shape of (152,) { which is very\n",
    "useful when you calculate the model error}."
   ]
  },
  {
   "cell_type": "code",
   "execution_count": 14,
   "metadata": {},
   "outputs": [
    {
     "name": "stdout",
     "output_type": "stream",
     "text": [
      "[-1.24753538  0.89864747 -0.30891318  0.20396801 -1.44887856  2.82950717\n",
      " -0.33108317 -2.7322947   2.37160233 -1.69814072 -2.0770354   1.14188205\n",
      " -3.27060287]\n"
     ]
    }
   ],
   "source": [
    "weight_custom = w_cur.ravel()\n",
    "print(weight_custom)"
   ]
  },
  {
   "cell_type": "markdown",
   "metadata": {},
   "source": [
    "<b> <font color=\"black\"> Custom SGD Implementation: Actual Values vs Predicted Values :- </font> </b>"
   ]
  },
  {
   "cell_type": "code",
   "execution_count": 15,
   "metadata": {},
   "outputs": [
    {
     "data": {
      "image/png": "[encoded data removed]",
      "text/plain": [
       "<Figure size 432x288 with 1 Axes>"
      ]
     },
     "metadata": {
      "needs_background": "light"
     },
     "output_type": "display_data"
    }
   ],
   "source": [
    "plt.scatter(Y_Test,pred_custom_SGD_1D)\n",
    "plt.xlabel(\"Actual Values\",size=12)\n",
    "plt.ylabel(\"Predicted Values\",size=12)\n",
    "plt.title(\"Actual Values vs Predicted Values\",size=16)\n",
    "plt.grid()\n",
    "plt.show()"
   ]
  },
  {
   "cell_type": "markdown",
   "metadata": {},
   "source": [
    "<b> <font color=\"black\"> PDF of Error with SGD Custom Implementation:- </font> </b>"
   ]
  },
  {
   "cell_type": "code",
   "execution_count": 16,
   "metadata": {},
   "outputs": [
    {
     "data": {
      "image/png": "[encoded data removed]",
      "text/plain": [
       "<Figure size 432x288 with 1 Axes>"
      ]
     },
     "metadata": {
      "needs_background": "light"
     },
     "output_type": "display_data"
    }
   ],
   "source": [
    "import seaborn as sns\n",
    "\n",
    "model_error = Y_Test - pred_custom_SGD_1D\n",
    "sns.kdeplot(model_error)\n",
    "plt.title(\"PDF of Custom Model Error\",size = 16)\n",
    "plt.show()"
   ]
  },
  {
   "cell_type": "code",
   "execution_count": 17,
   "metadata": {},
   "outputs": [
    {
     "name": "stdout",
     "output_type": "stream",
     "text": [
      "The MSE with the Custom Implementation of SGD: 30.72455054816487\n"
     ]
    }
   ],
   "source": [
    "from sklearn.metrics import mean_squared_error\n",
    "\n",
    "MSE_custom = mean_squared_error(Y_Test,pred_custom_SGD)\n",
    "print (\"The MSE with the Custom Implementation of SGD: \" + str(MSE_custom))"
   ]
  },
  {
   "cell_type": "markdown",
   "metadata": {},
   "source": [
    "# SKLearn's SGD Implementation :-"
   ]
  },
  {
   "cell_type": "code",
   "execution_count": 18,
   "metadata": {},
   "outputs": [],
   "source": [
    "from sklearn import linear_model\n",
    "\n",
    "SGD_sklearn = SGDRegressor(penalty='none', max_iter=160, learning_rate='constant')\n",
    "SGD_sklearn.fit(X_Train_sc,Y_Train)\n",
    "SGD_sklearn_pred = SGD_sklearn.predict(X_Test_sc)"
   ]
  },
  {
   "cell_type": "markdown",
   "metadata": {},
   "source": [
    "Here the 'penalty' is kept at none because we do not want to carry out any form of regularization and learning_rate\n",
    "is kept as constant just like in the previous case. max_iter= 1 Million, the exact value taken previously. "
   ]
  },
  {
   "cell_type": "code",
   "execution_count": 19,
   "metadata": {},
   "outputs": [
    {
     "name": "stdout",
     "output_type": "stream",
     "text": [
      "[-1.01632398  0.91949532  0.08516744  0.06841673 -1.36453469  1.67665901\n",
      " -0.40031149 -2.37020245  2.41191686 -2.09763087 -1.81131983  1.31244423\n",
      " -2.54373333]\n"
     ]
    }
   ],
   "source": [
    "weight_sklearn = SGD_sklearn.coef_\n",
    "print(weight_sklearn)"
   ]
  },
  {
   "cell_type": "markdown",
   "metadata": {},
   "source": [
    "<b> <font color=\"black\"> SKLearn Implementation: Actual Values vs Predicted Values :- </font> </b>"
   ]
  },
  {
   "cell_type": "code",
   "execution_count": 20,
   "metadata": {},
   "outputs": [
    {
     "data": {
      "image/png": "[encoded data removed]",
      "text/plain": [
       "<Figure size 432x288 with 1 Axes>"
      ]
     },
     "metadata": {
      "needs_background": "light"
     },
     "output_type": "display_data"
    }
   ],
   "source": [
    "plt.scatter(Y_Test,SGD_sklearn_pred)\n",
    "plt.xlabel(\"Actual Values\",size=12)\n",
    "plt.ylabel(\"Predicted Values\",size=12)\n",
    "plt.title(\"Actual Values vs Predicted Values\",size=16)\n",
    "plt.grid()\n",
    "plt.show()"
   ]
  },
  {
   "cell_type": "markdown",
   "metadata": {},
   "source": [
    "<b> <font color=\"black\"> PDF of Error with SKLearn's SGD Implementation:- </font> </b>"
   ]
  },
  {
   "cell_type": "code",
   "execution_count": 21,
   "metadata": {
    "colab": {
     "base_uri": "https://localhost:8080/",
     "height": 34
    },
    "colab_type": "code",
    "executionInfo": {
     "elapsed": 879,
     "status": "ok",
     "timestamp": 1545718892607,
     "user": {
      "displayName": "Applied AI Course",
      "photoUrl": "https://lh5.googleusercontent.com/-9_3A9F-kDXs/AAAAAAAAAAI/AAAAAAAAACw/IprjYvUuoXQ/s64/photo.jpg",
      "userId": "00484516897554883881"
     },
     "user_tz": -330
    },
    "id": "HNu1sXtEBBS2",
    "outputId": "a0c5d3d0-345c-4a34-8ccf-0d9f3d7d23fd"
   },
   "outputs": [
    {
     "data": {
      "image/png": "[encoded data removed]",
      "text/plain": [
       "<Figure size 432x288 with 1 Axes>"
      ]
     },
     "metadata": {
      "needs_background": "light"
     },
     "output_type": "display_data"
    }
   ],
   "source": [
    "Sklearn_error = Y_Test - SGD_sklearn_pred\n",
    "sns.kdeplot(Sklearn_error)\n",
    "plt.title(\"PDF of SKLearn Model Error\",size = 16)\n",
    "plt.show()"
   ]
  },
  {
   "cell_type": "code",
   "execution_count": 22,
   "metadata": {},
   "outputs": [
    {
     "name": "stdout",
     "output_type": "stream",
     "text": [
      "The MSE with the SKLearn Implementation of SGD: 34.833456361542616\n"
     ]
    }
   ],
   "source": [
    "from sklearn.metrics import mean_squared_error\n",
    "\n",
    "MSE_SKLearn = mean_squared_error(Y_Test,SGD_sklearn_pred)\n",
    "print(\"The MSE with the SKLearn Implementation of SGD: \" + str(MSE_SKLearn))"
   ]
  },
  {
   "cell_type": "markdown",
   "metadata": {},
   "source": [
    "# Comparison of the 2 Implementations :-"
   ]
  },
  {
   "cell_type": "markdown",
   "metadata": {},
   "source": [
    "<b> <font color=\"black\"> Comparison of the Weights:- </font> </b>"
   ]
  },
  {
   "cell_type": "code",
   "execution_count": 23,
   "metadata": {},
   "outputs": [],
   "source": [
    "from prettytable import PrettyTable\n",
    "y = PrettyTable()"
   ]
  },
  {
   "cell_type": "code",
   "execution_count": 24,
   "metadata": {},
   "outputs": [],
   "source": [
    "column_names = ['S.No.','Weights with the Custom SGD Implementation','Weights with the SKLearn SGD Implementation']"
   ]
  },
  {
   "cell_type": "code",
   "execution_count": 25,
   "metadata": {},
   "outputs": [],
   "source": [
    "s_no=[]\n",
    "for i in range(1,14):\n",
    "    s_no.append(i)"
   ]
  },
  {
   "cell_type": "code",
   "execution_count": 26,
   "metadata": {},
   "outputs": [
    {
     "name": "stdout",
     "output_type": "stream",
     "text": [
      "+-------+--------------------------------------------+---------------------------------------------+\n",
      "| S.No. | Weights with the Custom SGD Implementation | Weights with the SKLearn SGD Implementation |\n",
      "+-------+--------------------------------------------+---------------------------------------------+\n",
      "|   1   |                   -1.248                   |                    -1.016                   |\n",
      "|   2   |                   0.899                    |                    0.919                    |\n",
      "|   3   |                   -0.309                   |                    0.085                    |\n",
      "|   4   |                   0.204                    |                    0.068                    |\n",
      "|   5   |                   -1.449                   |                    -1.365                   |\n",
      "|   6   |                    2.83                    |                    1.677                    |\n",
      "|   7   |                   -0.331                   |                     -0.4                    |\n",
      "|   8   |                   -2.732                   |                    -2.37                    |\n",
      "|   9   |                   2.372                    |                    2.412                    |\n",
      "|   10  |                   -1.698                   |                    -2.098                   |\n",
      "|   11  |                   -2.077                   |                    -1.811                   |\n",
      "|   12  |                   1.142                    |                    1.312                    |\n",
      "|   13  |                   -3.271                   |                    -2.544                   |\n",
      "+-------+--------------------------------------------+---------------------------------------------+\n"
     ]
    }
   ],
   "source": [
    "y.add_column(column_names[0],s_no)\n",
    "y.add_column(column_names[1],np.round(weight_custom,3))\n",
    "y.add_column(column_names[2],np.round(weight_sklearn,3))\n",
    "print(y)"
   ]
  },
  {
   "cell_type": "markdown",
   "metadata": {},
   "source": [
    "<b> <font color=\"black\"> Comparison of the MSEs :- </font> </b>"
   ]
  },
  {
   "cell_type": "code",
   "execution_count": 27,
   "metadata": {},
   "outputs": [],
   "source": [
    "z = PrettyTable()\n",
    "z.field_names=['Type of Implementation','MSE']"
   ]
  },
  {
   "cell_type": "code",
   "execution_count": 28,
   "metadata": {},
   "outputs": [
    {
     "name": "stdout",
     "output_type": "stream",
     "text": [
      "+----------------------------+--------+\n",
      "|   Type of Implementation   |  MSE   |\n",
      "+----------------------------+--------+\n",
      "| Custom SGD Implementation  | 30.725 |\n",
      "| SKLearn SGD Implementation | 34.833 |\n",
      "+----------------------------+--------+\n"
     ]
    }
   ],
   "source": [
    "z.add_row(['Custom SGD Implementation',np.round(MSE_custom,3)])\n",
    "z.add_row(['SKLearn SGD Implementation',np.round(MSE_SKLearn,3)])\n",
    "print(z)"
   ]
  },
  {
   "cell_type": "markdown",
   "metadata": {},
   "source": [
    "# Conclusion :-"
   ]
  },
  {
   "cell_type": "markdown",
   "metadata": {},
   "source": [
    "1. The Weights obtained with the SGD Custom Implementation and SGD SKLearn Implementation are very similar and comparable. \n",
    "2. The Mean Square Error obtained for the 2 Implementations is also very similar and comparable. However for the same number of iterations and a constant learning rate the MSE for the Custom SGD Implementation is lower and hence the custom implementation in this case is performing better than the SKLearn Implementation."
   ]
  }
 ],
 "metadata": {
  "colab": {
   "name": "Untitled3.ipynb",
   "provenance": [],
   "version": "0.3.2"
  },
  "kernelspec": {
   "display_name": "Python 3",
   "language": "python",
   "name": "python3"
  },
  "language_info": {
   "codemirror_mode": {
    "name": "ipython",
    "version": 3
   },
   "file_extension": ".py",
   "mimetype": "text/x-python",
   "name": "python",
   "nbconvert_exporter": "python",
   "pygments_lexer": "ipython3",
   "version": "3.7.1"
  }
 },
 "nbformat": 4,
 "nbformat_minor": 1
}
